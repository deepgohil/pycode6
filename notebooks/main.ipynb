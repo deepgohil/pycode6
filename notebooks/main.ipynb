{
 "cells": [
  {
   "cell_type": "code",
   "execution_count": 29,
   "metadata": {},
   "outputs": [
    {
     "name": "stdout",
     "output_type": "stream",
     "text": [
      "1 1\n",
      "2 2\n",
      "3 3\n",
      "6 4\n",
      "5 5\n",
      "4 7\n"
     ]
    }
   ],
   "source": [
    "with open(\"one.txt\",\"r\") as f1,open(\"two.txt\",\"r\") as f2,open(\"three.txt\",\"w\") as f3:\n",
    "    res=[]\n",
    "    while True:\n",
    "            data1 = f1.readline()\n",
    "            data2 = f2.readline()\n",
    "            \n",
    "\n",
    "            if not data1 and not data2:  \n",
    "                break\n",
    "            data1,data2=int(data1),int(data2)\n",
    "            print(data1, data2)\n",
    "            res.append(data1)\n",
    "            res.append(data2)\n",
    "    \n",
    "    res.sort()\n",
    "    f3.write(str(res))\n",
    "\n",
    "\n"
   ]
  },
  {
   "cell_type": "code",
   "execution_count": 32,
   "metadata": {},
   "outputs": [],
   "source": [
    "def merge_sort(arr):\n",
    "    if len(arr) > 1:\n",
    "        mid = len(arr) // 2\n",
    "        left_half = arr[:mid]\n",
    "        right_half = arr[mid:]\n",
    "\n",
    "        merge_sort(left_half)\n",
    "        merge_sort(right_half)\n",
    "\n",
    "        i = j = k = 0\n",
    "\n",
    "        while i < len(left_half) and j < len(right_half):\n",
    "            if left_half[i] < right_half[j]:\n",
    "                arr[k] = left_half[i]\n",
    "                i += 1\n",
    "            else:\n",
    "                arr[k] = right_half[j]\n",
    "                j += 1\n",
    "            k += 1\n",
    "\n",
    "        while i < len(left_half):\n",
    "            arr[k] = left_half[i]\n",
    "            i += 1\n",
    "            k += 1\n",
    "\n",
    "        while j < len(right_half):\n",
    "            arr[k] = right_half[j]\n",
    "            j += 1\n",
    "            k += 1\n",
    "\n",
    "with open(\"one.txt\", \"r\") as f1, open(\"two.txt\", \"r\") as f2, open(\"three.txt\", \"w\") as f3:\n",
    "    data1 = f1.readline().strip()\n",
    "    data2 = f2.readline().strip()\n",
    "\n",
    "    list1 = []\n",
    "    list2 = []\n",
    "\n",
    "    while data1 or data2:\n",
    "        if data1:\n",
    "            list1.append(int(data1))\n",
    "            data1 = f1.readline().strip()\n",
    "\n",
    "        if data2:\n",
    "            list2.append(int(data2))\n",
    "            data2 = f2.readline().strip()\n",
    "\n",
    "    merge_sort(list1)\n",
    "    merge_sort(list2)\n",
    "\n",
    "    for item in list1:\n",
    "        f3.write(str(item) + \"\\n\")\n",
    "\n",
    "    for item in list2:\n",
    "        f3.write(str(item) + \"\\n\")\n"
   ]
  },
  {
   "cell_type": "code",
   "execution_count": null,
   "metadata": {},
   "outputs": [],
   "source": []
  }
 ],
 "metadata": {
  "kernelspec": {
   "display_name": "Python 3",
   "language": "python",
   "name": "python3"
  },
  "language_info": {
   "codemirror_mode": {
    "name": "ipython",
    "version": 3
   },
   "file_extension": ".py",
   "mimetype": "text/x-python",
   "name": "python",
   "nbconvert_exporter": "python",
   "pygments_lexer": "ipython3",
   "version": "3.10.8"
  },
  "orig_nbformat": 4
 },
 "nbformat": 4,
 "nbformat_minor": 2
}
